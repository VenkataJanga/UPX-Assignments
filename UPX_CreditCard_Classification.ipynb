{
  "nbformat": 4,
  "nbformat_minor": 0,
  "metadata": {
    "colab": {
      "name": "UPX_CreditCard_Classification.ipynb",
      "provenance": [],
      "collapsed_sections": [],
      "toc_visible": true,
      "authorship_tag": "ABX9TyM+d1FMoinx/EnBP+kL2iAw",
      "include_colab_link": true
    },
    "kernelspec": {
      "name": "python3",
      "display_name": "Python 3"
    }
  },
  "cells": [
    {
      "cell_type": "markdown",
      "metadata": {
        "id": "view-in-github",
        "colab_type": "text"
      },
      "source": [
        "<a href=\"https://colab.research.google.com/github/VenkataJanga/UPX-Assignments/blob/master/UPX_CreditCard_Classification.ipynb\" target=\"_parent\"><img src=\"https://colab.research.google.com/assets/colab-badge.svg\" alt=\"Open In Colab\"/></a>"
      ]
    },
    {
      "cell_type": "code",
      "metadata": {
        "id": "HmQ2tFx2X4Ek",
        "colab_type": "code",
        "colab": {}
      },
      "source": [
        "import numpy as np\n",
        "import pandas as pd\n",
        "from matplotlib import pyplot as plt\n",
        "import seaborn as sns\n",
        "from sklearn.model_selection import train_test_split\n",
        "from sklearn.linear_model import LogisticRegression\n",
        "from sklearn.metrics import confusion_matrix,accuracy_score,precision_score,recall_score,roc_auc_score,roc_curve\n",
        "from sklearn.metrics import classification_report,accuracy_score"
      ],
      "execution_count": 0,
      "outputs": []
    },
    {
      "cell_type": "code",
      "metadata": {
        "id": "xrV-jJgKYoOZ",
        "colab_type": "code",
        "colab": {
          "base_uri": "https://localhost:8080/",
          "height": 708
        },
        "outputId": "6e7d26aa-f7b4-4087-fa37-892e93bb5b43"
      },
      "source": [
        "cr_data = pd.read_csv('/content/creditcard.csv')\n",
        "cr_data.info()"
      ],
      "execution_count": 48,
      "outputs": [
        {
          "output_type": "stream",
          "text": [
            "<class 'pandas.core.frame.DataFrame'>\n",
            "RangeIndex: 198149 entries, 0 to 198148\n",
            "Data columns (total 31 columns):\n",
            " #   Column  Non-Null Count   Dtype  \n",
            "---  ------  --------------   -----  \n",
            " 0   Time    198149 non-null  float64\n",
            " 1   V1      198149 non-null  float64\n",
            " 2   V2      198149 non-null  float64\n",
            " 3   V3      198149 non-null  float64\n",
            " 4   V4      198149 non-null  float64\n",
            " 5   V5      198149 non-null  float64\n",
            " 6   V6      198149 non-null  float64\n",
            " 7   V7      198149 non-null  float64\n",
            " 8   V8      198149 non-null  float64\n",
            " 9   V9      198149 non-null  float64\n",
            " 10  V10     198149 non-null  float64\n",
            " 11  V11     198149 non-null  float64\n",
            " 12  V12     198148 non-null  float64\n",
            " 13  V13     198148 non-null  float64\n",
            " 14  V14     198148 non-null  float64\n",
            " 15  V15     198148 non-null  float64\n",
            " 16  V16     198148 non-null  float64\n",
            " 17  V17     198148 non-null  float64\n",
            " 18  V18     198148 non-null  float64\n",
            " 19  V19     198148 non-null  float64\n",
            " 20  V20     198148 non-null  float64\n",
            " 21  V21     198148 non-null  float64\n",
            " 22  V22     198148 non-null  float64\n",
            " 23  V23     198148 non-null  float64\n",
            " 24  V24     198148 non-null  float64\n",
            " 25  V25     198148 non-null  float64\n",
            " 26  V26     198148 non-null  float64\n",
            " 27  V27     198148 non-null  float64\n",
            " 28  V28     198148 non-null  float64\n",
            " 29  Amount  198148 non-null  float64\n",
            " 30  Class   198148 non-null  float64\n",
            "dtypes: float64(31)\n",
            "memory usage: 46.9 MB\n"
          ],
          "name": "stdout"
        }
      ]
    },
    {
      "cell_type": "code",
      "metadata": {
        "id": "w3j6FPrOZeW_",
        "colab_type": "code",
        "colab": {
          "base_uri": "https://localhost:8080/",
          "height": 108
        },
        "outputId": "c60cba08-9bf8-44fc-988d-6346824699e2"
      },
      "source": [
        "cr_data.columns"
      ],
      "execution_count": 49,
      "outputs": [
        {
          "output_type": "execute_result",
          "data": {
            "text/plain": [
              "Index(['Time', 'V1', 'V2', 'V3', 'V4', 'V5', 'V6', 'V7', 'V8', 'V9', 'V10',\n",
              "       'V11', 'V12', 'V13', 'V14', 'V15', 'V16', 'V17', 'V18', 'V19', 'V20',\n",
              "       'V21', 'V22', 'V23', 'V24', 'V25', 'V26', 'V27', 'V28', 'Amount',\n",
              "       'Class'],\n",
              "      dtype='object')"
            ]
          },
          "metadata": {
            "tags": []
          },
          "execution_count": 49
        }
      ]
    },
    {
      "cell_type": "code",
      "metadata": {
        "id": "G-N6peIZauBR",
        "colab_type": "code",
        "colab": {
          "base_uri": "https://localhost:8080/",
          "height": 72
        },
        "outputId": "9646f467-d46f-4b4a-9049-0fb589e52615"
      },
      "source": [
        "# determine the number of fraut cases in data sets\n",
        "cr_data['Class'].value_counts()"
      ],
      "execution_count": 50,
      "outputs": [
        {
          "output_type": "execute_result",
          "data": {
            "text/plain": [
              "0.0    197765\n",
              "1.0       383\n",
              "Name: Class, dtype: int64"
            ]
          },
          "metadata": {
            "tags": []
          },
          "execution_count": 50
        }
      ]
    },
    {
      "cell_type": "code",
      "metadata": {
        "id": "CZv0BFM2c-1i",
        "colab_type": "code",
        "colab": {
          "base_uri": "https://localhost:8080/",
          "height": 599
        },
        "outputId": "092f8c47-52eb-4ea2-96c0-46067656da6f"
      },
      "source": [
        "cr_data.isnull().sum()"
      ],
      "execution_count": 51,
      "outputs": [
        {
          "output_type": "execute_result",
          "data": {
            "text/plain": [
              "Time      0\n",
              "V1        0\n",
              "V2        0\n",
              "V3        0\n",
              "V4        0\n",
              "V5        0\n",
              "V6        0\n",
              "V7        0\n",
              "V8        0\n",
              "V9        0\n",
              "V10       0\n",
              "V11       0\n",
              "V12       1\n",
              "V13       1\n",
              "V14       1\n",
              "V15       1\n",
              "V16       1\n",
              "V17       1\n",
              "V18       1\n",
              "V19       1\n",
              "V20       1\n",
              "V21       1\n",
              "V22       1\n",
              "V23       1\n",
              "V24       1\n",
              "V25       1\n",
              "V26       1\n",
              "V27       1\n",
              "V28       1\n",
              "Amount    1\n",
              "Class     1\n",
              "dtype: int64"
            ]
          },
          "metadata": {
            "tags": []
          },
          "execution_count": 51
        }
      ]
    },
    {
      "cell_type": "code",
      "metadata": {
        "id": "GZQbabQ4dQuM",
        "colab_type": "code",
        "colab": {}
      },
      "source": [
        "cr_data.fillna(0, inplace = True) "
      ],
      "execution_count": 0,
      "outputs": []
    },
    {
      "cell_type": "code",
      "metadata": {
        "id": "Q16PR3vudd0G",
        "colab_type": "code",
        "colab": {
          "base_uri": "https://localhost:8080/",
          "height": 599
        },
        "outputId": "ece3be41-0402-49db-faa9-027c9fb5d1d8"
      },
      "source": [
        "cr_data.isnull().sum()"
      ],
      "execution_count": 53,
      "outputs": [
        {
          "output_type": "execute_result",
          "data": {
            "text/plain": [
              "Time      0\n",
              "V1        0\n",
              "V2        0\n",
              "V3        0\n",
              "V4        0\n",
              "V5        0\n",
              "V6        0\n",
              "V7        0\n",
              "V8        0\n",
              "V9        0\n",
              "V10       0\n",
              "V11       0\n",
              "V12       0\n",
              "V13       0\n",
              "V14       0\n",
              "V15       0\n",
              "V16       0\n",
              "V17       0\n",
              "V18       0\n",
              "V19       0\n",
              "V20       0\n",
              "V21       0\n",
              "V22       0\n",
              "V23       0\n",
              "V24       0\n",
              "V25       0\n",
              "V26       0\n",
              "V27       0\n",
              "V28       0\n",
              "Amount    0\n",
              "Class     0\n",
              "dtype: int64"
            ]
          },
          "metadata": {
            "tags": []
          },
          "execution_count": 53
        }
      ]
    },
    {
      "cell_type": "code",
      "metadata": {
        "id": "QZCVQITOdb1A",
        "colab_type": "code",
        "colab": {}
      },
      "source": [
        ""
      ],
      "execution_count": 0,
      "outputs": []
    },
    {
      "cell_type": "code",
      "metadata": {
        "id": "L7doYyGNavC4",
        "colab_type": "code",
        "colab": {
          "base_uri": "https://localhost:8080/",
          "height": 72
        },
        "outputId": "d6612180-8061-465c-c9b9-b8cf811b7a32"
      },
      "source": [
        "fraud_cases = cr_data[cr_data['Class']==0]\n",
        "valid_cases = cr_data[cr_data['Class']==1]\n",
        "outlier_fraction = len(fraud_cases) / float(len(valid_cases))\n",
        "print(outlier_fraction)\n",
        "print('Fraud Cases {}'.format(len(fraud_cases)))\n",
        "print('Valid Cases {}'.format(len(valid_cases)))"
      ],
      "execution_count": 54,
      "outputs": [
        {
          "output_type": "stream",
          "text": [
            "516.3603133159269\n",
            "Fraud Cases 197766\n",
            "Valid Cases 383\n"
          ],
          "name": "stdout"
        }
      ]
    },
    {
      "cell_type": "code",
      "metadata": {
        "id": "vkN-h1pZbCu2",
        "colab_type": "code",
        "colab": {
          "base_uri": "https://localhost:8080/",
          "height": 643
        },
        "outputId": "f1820663-c41c-4934-86de-5dac6a349026"
      },
      "source": [
        "#correlation matrix\n",
        "corrmat = cr_data.corr()\n",
        "fig = plt.figure(figsize = (16,10))\n",
        "sns.heatmap(corrmat,vmax = 0.8,square = True)"
      ],
      "execution_count": 55,
      "outputs": [
        {
          "output_type": "execute_result",
          "data": {
            "text/plain": [
              "<matplotlib.axes._subplots.AxesSubplot at 0x7fb6f94026d8>"
            ]
          },
          "metadata": {
            "tags": []
          },
          "execution_count": 55
        },
        {
          "output_type": "display_data",
          "data": {
            "image/png": "[encoded data removed]",
            "text/plain": [
              "<Figure size 1152x720 with 2 Axes>"
            ]
          },
          "metadata": {
            "tags": [],
            "needs_background": "light"
          }
        }
      ]
    },
    {
      "cell_type": "code",
      "metadata": {
        "id": "mIxCLr6gbMgy",
        "colab_type": "code",
        "colab": {
          "base_uri": "https://localhost:8080/",
          "height": 128
        },
        "outputId": "97c816e4-7d39-412a-a285-79952e0dd3d7"
      },
      "source": [
        "cr_data.head(2)"
      ],
      "execution_count": 56,
      "outputs": [
        {
          "output_type": "execute_result",
          "data": {
            "text/html": [
              "<div>\n",
              "<style scoped>\n",
              "    .dataframe tbody tr th:only-of-type {\n",
              "        vertical-align: middle;\n",
              "    }\n",
              "\n",
              "    .dataframe tbody tr th {\n",
              "        vertical-align: top;\n",
              "    }\n",
              "\n",
              "    .dataframe thead th {\n",
              "        text-align: right;\n",
              "    }\n",
              "</style>\n",
              "<table border=\"1\" class=\"dataframe\">\n",
              "  <thead>\n",
              "    <tr style=\"text-align: right;\">\n",
              "      <th></th>\n",
              "      <th>Time</th>\n",
              "      <th>V1</th>\n",
              "      <th>V2</th>\n",
              "      <th>V3</th>\n",
              "      <th>V4</th>\n",
              "      <th>V5</th>\n",
              "      <th>V6</th>\n",
              "      <th>V7</th>\n",
              "      <th>V8</th>\n",
              "      <th>V9</th>\n",
              "      <th>V10</th>\n",
              "      <th>V11</th>\n",
              "      <th>V12</th>\n",
              "      <th>V13</th>\n",
              "      <th>V14</th>\n",
              "      <th>V15</th>\n",
              "      <th>V16</th>\n",
              "      <th>V17</th>\n",
              "      <th>V18</th>\n",
              "      <th>V19</th>\n",
              "      <th>V20</th>\n",
              "      <th>V21</th>\n",
              "      <th>V22</th>\n",
              "      <th>V23</th>\n",
              "      <th>V24</th>\n",
              "      <th>V25</th>\n",
              "      <th>V26</th>\n",
              "      <th>V27</th>\n",
              "      <th>V28</th>\n",
              "      <th>Amount</th>\n",
              "      <th>Class</th>\n",
              "    </tr>\n",
              "  </thead>\n",
              "  <tbody>\n",
              "    <tr>\n",
              "      <th>0</th>\n",
              "      <td>0.0</td>\n",
              "      <td>-1.359807</td>\n",
              "      <td>-0.072781</td>\n",
              "      <td>2.536347</td>\n",
              "      <td>1.378155</td>\n",
              "      <td>-0.338321</td>\n",
              "      <td>0.462388</td>\n",
              "      <td>0.239599</td>\n",
              "      <td>0.098698</td>\n",
              "      <td>0.363787</td>\n",
              "      <td>0.090794</td>\n",
              "      <td>-0.551600</td>\n",
              "      <td>-0.617801</td>\n",
              "      <td>-0.991390</td>\n",
              "      <td>-0.311169</td>\n",
              "      <td>1.468177</td>\n",
              "      <td>-0.470401</td>\n",
              "      <td>0.207971</td>\n",
              "      <td>0.025791</td>\n",
              "      <td>0.403993</td>\n",
              "      <td>0.251412</td>\n",
              "      <td>-0.018307</td>\n",
              "      <td>0.277838</td>\n",
              "      <td>-0.110474</td>\n",
              "      <td>0.066928</td>\n",
              "      <td>0.128539</td>\n",
              "      <td>-0.189115</td>\n",
              "      <td>0.133558</td>\n",
              "      <td>-0.021053</td>\n",
              "      <td>149.62</td>\n",
              "      <td>0.0</td>\n",
              "    </tr>\n",
              "    <tr>\n",
              "      <th>1</th>\n",
              "      <td>0.0</td>\n",
              "      <td>1.191857</td>\n",
              "      <td>0.266151</td>\n",
              "      <td>0.166480</td>\n",
              "      <td>0.448154</td>\n",
              "      <td>0.060018</td>\n",
              "      <td>-0.082361</td>\n",
              "      <td>-0.078803</td>\n",
              "      <td>0.085102</td>\n",
              "      <td>-0.255425</td>\n",
              "      <td>-0.166974</td>\n",
              "      <td>1.612727</td>\n",
              "      <td>1.065235</td>\n",
              "      <td>0.489095</td>\n",
              "      <td>-0.143772</td>\n",
              "      <td>0.635558</td>\n",
              "      <td>0.463917</td>\n",
              "      <td>-0.114805</td>\n",
              "      <td>-0.183361</td>\n",
              "      <td>-0.145783</td>\n",
              "      <td>-0.069083</td>\n",
              "      <td>-0.225775</td>\n",
              "      <td>-0.638672</td>\n",
              "      <td>0.101288</td>\n",
              "      <td>-0.339846</td>\n",
              "      <td>0.167170</td>\n",
              "      <td>0.125895</td>\n",
              "      <td>-0.008983</td>\n",
              "      <td>0.014724</td>\n",
              "      <td>2.69</td>\n",
              "      <td>0.0</td>\n",
              "    </tr>\n",
              "  </tbody>\n",
              "</table>\n",
              "</div>"
            ],
            "text/plain": [
              "   Time        V1        V2        V3  ...       V27       V28  Amount  Class\n",
              "0   0.0 -1.359807 -0.072781  2.536347  ...  0.133558 -0.021053  149.62    0.0\n",
              "1   0.0  1.191857  0.266151  0.166480  ... -0.008983  0.014724    2.69    0.0\n",
              "\n",
              "[2 rows x 31 columns]"
            ]
          },
          "metadata": {
            "tags": []
          },
          "execution_count": 56
        }
      ]
    },
    {
      "cell_type": "code",
      "metadata": {
        "id": "0K9uXtV6cXnF",
        "colab_type": "code",
        "colab": {}
      },
      "source": [
        "X = cr_data.iloc[:,0:30]\n",
        "y = cr_data.iloc[:,-1:]"
      ],
      "execution_count": 0,
      "outputs": []
    },
    {
      "cell_type": "code",
      "metadata": {
        "id": "5xB1HztYceit",
        "colab_type": "code",
        "colab": {
          "base_uri": "https://localhost:8080/",
          "height": 72
        },
        "outputId": "f0e33c12-3fd8-4ac5-df39-52882d688d72"
      },
      "source": [
        "print(X.shape);print();print(y.shape)"
      ],
      "execution_count": 58,
      "outputs": [
        {
          "output_type": "stream",
          "text": [
            "(198149, 30)\n",
            "\n",
            "(198149, 1)\n"
          ],
          "name": "stdout"
        }
      ]
    },
    {
      "cell_type": "code",
      "metadata": {
        "id": "4ugm3FfVcjTt",
        "colab_type": "code",
        "colab": {
          "base_uri": "https://localhost:8080/",
          "height": 310
        },
        "outputId": "24159f28-7c30-424c-a1c7-df0324440d01"
      },
      "source": [
        "X_train,X_test,y_train,y_test = train_test_split(X,y, test_size = 0.2)\n",
        "from sklearn.linear_model import LogisticRegression\n",
        "\n",
        "logg_reg_model = LogisticRegression()\n",
        "logg_reg_model.fit(X_train,y_train)"
      ],
      "execution_count": 59,
      "outputs": [
        {
          "output_type": "stream",
          "text": [
            "/usr/local/lib/python3.6/dist-packages/sklearn/utils/validation.py:760: DataConversionWarning: A column-vector y was passed when a 1d array was expected. Please change the shape of y to (n_samples, ), for example using ravel().\n",
            "  y = column_or_1d(y, warn=True)\n",
            "/usr/local/lib/python3.6/dist-packages/sklearn/linear_model/_logistic.py:940: ConvergenceWarning: lbfgs failed to converge (status=1):\n",
            "STOP: TOTAL NO. of ITERATIONS REACHED LIMIT.\n",
            "\n",
            "Increase the number of iterations (max_iter) or scale the data as shown in:\n",
            "    https://scikit-learn.org/stable/modules/preprocessing.html\n",
            "Please also refer to the documentation for alternative solver options:\n",
            "    https://scikit-learn.org/stable/modules/linear_model.html#logistic-regression\n",
            "  extra_warning_msg=_LOGISTIC_SOLVER_CONVERGENCE_MSG)\n"
          ],
          "name": "stderr"
        },
        {
          "output_type": "execute_result",
          "data": {
            "text/plain": [
              "LogisticRegression(C=1.0, class_weight=None, dual=False, fit_intercept=True,\n",
              "                   intercept_scaling=1, l1_ratio=None, max_iter=100,\n",
              "                   multi_class='auto', n_jobs=None, penalty='l2',\n",
              "                   random_state=None, solver='lbfgs', tol=0.0001, verbose=0,\n",
              "                   warm_start=False)"
            ]
          },
          "metadata": {
            "tags": []
          },
          "execution_count": 59
        }
      ]
    },
    {
      "cell_type": "code",
      "metadata": {
        "id": "BXFboZejcq2T",
        "colab_type": "code",
        "colab": {}
      },
      "source": [
        "y_logreg_prediction = logg_reg_model.predict(X_test)\n",
        "y_logreg_prediction_prob = logg_reg_model.predict_proba(X_test)[:,1]"
      ],
      "execution_count": 0,
      "outputs": []
    },
    {
      "cell_type": "code",
      "metadata": {
        "id": "JNqy0gpFejyI",
        "colab_type": "code",
        "colab": {
          "base_uri": "https://localhost:8080/",
          "height": 126
        },
        "outputId": "3a5229fd-5536-49a9-dca4-285e5c8fe765"
      },
      "source": [
        "#Performance metrics evaluation\n",
        "print(\"Confusion Martix:\\t {}\".format(confusion_matrix(y_test,y_logreg_prediction)))\n",
        "print(\"Accuracy \\t {}\".format(accuracy_score(y_test,y_logreg_prediction)))\n",
        "print(\"Precision:\\t\".format(precision_score(y_test,y_logreg_prediction)))\n",
        "print(\"Recall:\\t {}\".format(recall_score(y_test,y_logreg_prediction)))\n",
        "print(\"AUC:\\t {}\".format(roc_auc_score(y_test,y_logreg_prediction_prob)))\n",
        "auc=roc_auc_score(y_test,y_logreg_prediction_prob)"
      ],
      "execution_count": 63,
      "outputs": [
        {
          "output_type": "stream",
          "text": [
            "Confusion Martix:\t [[39523    33]\n",
            " [   26    48]]\n",
            "Accuracy \t 0.9985112288670199\n",
            "Precision:\t\n",
            "Recall:\t 0.6486486486486487\n",
            "AUC:\t 0.9158797790610915\n"
          ],
          "name": "stdout"
        }
      ]
    },
    {
      "cell_type": "code",
      "metadata": {
        "id": "XQrEv8YhenA8",
        "colab_type": "code",
        "colab": {
          "base_uri": "https://localhost:8080/",
          "height": 310
        },
        "outputId": "71cf6d09-39de-4a29-c1db-a2d77f4db5e8"
      },
      "source": [
        "#Ploting the ROC curve\n",
        "fpr,tpr, thresholds = roc_curve(y_test,y_logreg_prediction_prob)\n",
        "plt.plot(fpr,tpr,'b', label='AUC = %0.2f'% auc)\n",
        "plt.plot([0,1],[0,1],'r-.')\n",
        "plt.xlim([-0.2,1.2])\n",
        "plt.ylim([-0.2,1.2])\n",
        "plt.title('Receiver Operating Characteristic\\nLogistic Regression')\n",
        "plt.legend(loc='lower right')\n",
        "plt.ylabel('True Positive Rate')\n",
        "plt.xlabel('False Positive Rate')\n",
        "plt.show()"
      ],
      "execution_count": 64,
      "outputs": [
        {
          "output_type": "display_data",
          "data": {
            "image/png": "[encoded data removed]",
            "text/plain": [
              "<Figure size 432x288 with 1 Axes>"
            ]
          },
          "metadata": {
            "tags": [],
            "needs_background": "light"
          }
        }
      ]
    },
    {
      "cell_type": "markdown",
      "metadata": {
        "id": "7oZeHNR5fNzq",
        "colab_type": "text"
      },
      "source": [
        "#K Nearest Neighbors"
      ]
    },
    {
      "cell_type": "code",
      "metadata": {
        "id": "QiMXW4EnfQow",
        "colab_type": "code",
        "colab": {
          "base_uri": "https://localhost:8080/",
          "height": 74
        },
        "outputId": "736db07d-eaa9-402a-a930-fde9390c12ff"
      },
      "source": [
        "from sklearn.neighbors import KNeighborsClassifier\n",
        "\n",
        "knn = KNeighborsClassifier(n_neighbors=5)\n",
        "knn.fit(X_train,y_train)\n",
        "y_knn_predict = knn.predict(X_test)\n",
        "y_knn_predict_prob = knn.predict_proba(X_test)[:,1]"
      ],
      "execution_count": 65,
      "outputs": [
        {
          "output_type": "stream",
          "text": [
            "/usr/local/lib/python3.6/dist-packages/ipykernel_launcher.py:4: DataConversionWarning: A column-vector y was passed when a 1d array was expected. Please change the shape of y to (n_samples, ), for example using ravel().\n",
            "  after removing the cwd from sys.path.\n"
          ],
          "name": "stderr"
        }
      ]
    },
    {
      "cell_type": "code",
      "metadata": {
        "id": "C_-c1BMFfUJp",
        "colab_type": "code",
        "colab": {
          "base_uri": "https://localhost:8080/",
          "height": 378
        },
        "outputId": "545e9ac7-d0bd-47b5-cc27-cde674a70294"
      },
      "source": [
        "#metrics evaluation\n",
        "print('Confusion Matrix \\t{}'.format(confusion_matrix(y_test,y_knn_predict)))\n",
        "print(\"Accuracy \\t{}\".format(accuracy_score(y_test,y_knn_predict)))\n",
        "print(\"Precision:\\t\".format(precision_score(y_test,y_knn_predict)))\n",
        "print(\"Recall:\\t {}\".format(recall_score(y_test,y_knn_predict)))\n",
        "print(\"AUC:\\t {}\".format(roc_auc_score(y_test,y_knn_predict_prob)))\n",
        "\n",
        "#ploting the ROC curve\n",
        "fpr,tpr, thresholds = roc_curve(y_test,y_knn_predict_prob)\n",
        "plt.plot(fpr,tpr)\n",
        "plt.xlim([0.0,1.0])\n",
        "plt.ylim([0.0,1.0])\n",
        "plt.show()"
      ],
      "execution_count": 66,
      "outputs": [
        {
          "output_type": "stream",
          "text": [
            "Confusion Matrix \t[[39555     1]\n",
            " [   69     5]]\n",
            "Accuracy \t0.9982336613676508\n",
            "Precision:\t\n",
            "Recall:\t 0.06756756756756757\n",
            "AUC:\t 0.6135451484450373\n"
          ],
          "name": "stdout"
        },
        {
          "output_type": "display_data",
          "data": {
            "image/png": "[encoded data removed]",
            "text/plain": [
              "<Figure size 432x288 with 1 Axes>"
            ]
          },
          "metadata": {
            "tags": [],
            "needs_background": "light"
          }
        }
      ]
    },
    {
      "cell_type": "markdown",
      "metadata": {
        "id": "z-6k39a4fdkn",
        "colab_type": "text"
      },
      "source": [
        "**Random Forest Classifier**"
      ]
    },
    {
      "cell_type": "code",
      "metadata": {
        "id": "DnA3PbzyfgR3",
        "colab_type": "code",
        "colab": {
          "base_uri": "https://localhost:8080/",
          "height": 219
        },
        "outputId": "176e9a92-c562-4be4-d4e5-657a92d61090"
      },
      "source": [
        "from sklearn.ensemble import RandomForestClassifier\n",
        "rfc = RandomForestClassifier()\n",
        "rfc.fit(X_train,y_train)"
      ],
      "execution_count": 67,
      "outputs": [
        {
          "output_type": "stream",
          "text": [
            "/usr/local/lib/python3.6/dist-packages/ipykernel_launcher.py:3: DataConversionWarning: A column-vector y was passed when a 1d array was expected. Please change the shape of y to (n_samples,), for example using ravel().\n",
            "  This is separate from the ipykernel package so we can avoid doing imports until\n"
          ],
          "name": "stderr"
        },
        {
          "output_type": "execute_result",
          "data": {
            "text/plain": [
              "RandomForestClassifier(bootstrap=True, ccp_alpha=0.0, class_weight=None,\n",
              "                       criterion='gini', max_depth=None, max_features='auto',\n",
              "                       max_leaf_nodes=None, max_samples=None,\n",
              "                       min_impurity_decrease=0.0, min_impurity_split=None,\n",
              "                       min_samples_leaf=1, min_samples_split=2,\n",
              "                       min_weight_fraction_leaf=0.0, n_estimators=100,\n",
              "                       n_jobs=None, oob_score=False, random_state=None,\n",
              "                       verbose=0, warm_start=False)"
            ]
          },
          "metadata": {
            "tags": []
          },
          "execution_count": 67
        }
      ]
    },
    {
      "cell_type": "code",
      "metadata": {
        "id": "Gog3FblrfiYI",
        "colab_type": "code",
        "colab": {}
      },
      "source": [
        "y_rfc_predict = rfc.predict(X_test)\n",
        "y_rfc_predict_prob = rfc.predict_proba(X_test)[:,1]"
      ],
      "execution_count": 0,
      "outputs": []
    },
    {
      "cell_type": "code",
      "metadata": {
        "id": "3_UIRngdfrCe",
        "colab_type": "code",
        "colab": {
          "base_uri": "https://localhost:8080/",
          "height": 126
        },
        "outputId": "f1ebadb8-2907-46f2-f89c-237afc2b3d26"
      },
      "source": [
        "#Performance metrics evaluation\n",
        "print(\"Confusion Matrix \\t{}\".format(confusion_matrix(y_test,y_rfc_predict)))\n",
        "print(\"Accuracy \\t{}\".format(accuracy_score(y_test,y_rfc_predict)))\n",
        "print(\"Precission \\t{}\".format(precision_score(y_test,y_rfc_predict)))\n",
        "print(\"Recall \\t{}\".format(recall_score(y_test,y_rfc_predict)))\n",
        "print(\"AUC \\t{}\".format(roc_auc_score(y_test,y_rfc_predict_prob)))\n",
        "auc = roc_auc_score(y_test,y_rfc_predict_prob)"
      ],
      "execution_count": 69,
      "outputs": [
        {
          "output_type": "stream",
          "text": [
            "Confusion Matrix \t[[39553     3]\n",
            " [   18    56]]\n",
            "Accuracy \t0.9994700984102952\n",
            "Precission \t0.9491525423728814\n",
            "Recall \t0.7567567567567568\n",
            "AUC \t0.9236202592014605\n"
          ],
          "name": "stdout"
        }
      ]
    },
    {
      "cell_type": "code",
      "metadata": {
        "id": "QqqHxrorCAHH",
        "colab_type": "code",
        "outputId": "cc6ae672-5ee8-4d9c-ea97-fb55bf4daafc",
        "colab": {
          "base_uri": "https://localhost:8080/",
          "height": 294
        }
      },
      "source": [
        "#Plotting the ROC curve\n",
        "fpr,tpr,thresholds = roc_curve(y_test,y_rfc_predict)\n",
        "plt.plot(fpr,tpr,'b',label ='AUC=%0.2f'% auc)\n",
        "plt.plot([0,1],[0,1],'r-.')\n",
        "plt.xlim([-0.2,1.2])\n",
        "plt.ylim([-0.2,1.2])\n",
        "plt.title(\"Receiver Operating Charecreristic Random Forest\")\n",
        "plt.xlabel(\"False Positive Rate\")\n",
        "plt.ylabel(\"True Positive Rate\")\n",
        "plt.legend(loc=\"lower right\")\n",
        "plt.show()"
      ],
      "execution_count": 0,
      "outputs": [
        {
          "output_type": "display_data",
          "data": {
            "image/png": "[encoded data removed]",
            "text/plain": [
              "<Figure size 432x288 with 1 Axes>"
            ]
          },
          "metadata": {
            "tags": []
          }
        }
      ]
    },
    {
      "cell_type": "markdown",
      "metadata": {
        "id": "P7llhPpMgcYM",
        "colab_type": "text"
      },
      "source": [
        "**Balanced and imbalaced data using**\n"
      ]
    },
    {
      "cell_type": "code",
      "metadata": {
        "id": "8ycQWMiHgkl1",
        "colab_type": "code",
        "colab": {}
      },
      "source": [
        ""
      ],
      "execution_count": 0,
      "outputs": []
    }
  ]
}