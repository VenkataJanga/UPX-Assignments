{
 "cells": [
  {
   "cell_type": "markdown",
   "metadata": {},
   "source": [
    "# Reindex the below dataframe to a timeline between 2008 – 2017 and fill out the NaN values."
   ]
  },
  {
   "cell_type": "code",
   "execution_count": 50,
   "metadata": {},
   "outputs": [
    {
     "name": "stdout",
     "output_type": "stream",
     "text": [
      "      Company A  Company B  Company C\n",
      "2008       12.0       13.0        NaN\n",
      "2010       24.0        NaN       10.0\n",
      "2012       34.0       16.0       17.0\n",
      "2014       43.0       54.0        NaN\n",
      "2016        NaN        NaN        3.0\n"
     ]
    }
   ],
   "source": [
    "#Reindex the below dataframe to a timeline between 2008 – 2017 and fill out the NaN values.\n",
    "import numpy as np\n",
    "import pandas as pd\n",
    "data = ({\n",
    "            'Company A':[12,24,34,43,np.nan],\n",
    "            'Company B':[13,np.nan,16,54,np.nan],\n",
    "            'Company C':[np.nan,10,17,np.nan,3]\n",
    "        })\n",
    "index_data = np.arange(2008,2017,2)\n",
    "\n",
    "dataset = pd.DataFrame(data, index = index_data)\n",
    "print(dataset)"
   ]
  },
  {
   "cell_type": "markdown",
   "metadata": {},
   "source": [
    "# 2. Consider the below Dataframe.\n",
    "Now, I want to replace the NaN values in Col1 with the mean of values in Col2 if the value is greater than 5. Or else the NaN values should be set to 0. Can you code it for me?"
   ]
  },
  {
   "cell_type": "code",
   "execution_count": 4,
   "metadata": {},
   "outputs": [
    {
     "name": "stdout",
     "output_type": "stream",
     "text": [
      "\n",
      "8.5\n",
      "After modfiying the data set \n",
      "   Col1  Col2\n",
      "0   1.0     8\n",
      "1   8.5     9\n",
      "2   3.0     7\n",
      "3   8.5    10\n"
     ]
    }
   ],
   "source": [
    "#2. Consider the below Dataframe.\n",
    "import pandas as pd\n",
    "import numpy as np\n",
    "df = pd.DataFrame({ 'Col1' : [1,np.NaN,3,np.NaN],\n",
    "                    'Col2' : [8,9,7,10]\n",
    "                  })\n",
    "#print('Oiginal Data set ');print(df)\n",
    "mean_col2 = df['Col2'].mean()\n",
    "print();print(mean_col2)\n",
    "if mean_col2 > 5:\n",
    "    df['Col1'].fillna(mean_col2,inplace=True)\n",
    "else:\n",
    "    df['Col1'].fillna(0)\n",
    "print('After modfiying the data set ');print(df)"
   ]
  },
  {
   "cell_type": "code",
   "execution_count": null,
   "metadata": {},
   "outputs": [],
   "source": []
  },
  {
   "cell_type": "code",
   "execution_count": 71,
   "metadata": {},
   "outputs": [
    {
     "name": "stdout",
     "output_type": "stream",
     "text": [
      "   Col1  Col2\n",
      "0   1.0     8\n",
      "1   NaN     9\n",
      "2   3.0     7\n",
      "3   NaN    10\n"
     ]
    },
    {
     "ename": "AttributeError",
     "evalue": "'float' object has no attribute 'fillna'",
     "output_type": "error",
     "traceback": [
      "\u001b[1;31m---------------------------------------------------------------------------\u001b[0m",
      "\u001b[1;31mAttributeError\u001b[0m                            Traceback (most recent call last)",
      "\u001b[1;32m<ipython-input-71-e8af0857bfec>\u001b[0m in \u001b[0;36m<module>\u001b[1;34m\u001b[0m\n\u001b[0;32m     13\u001b[0m \u001b[1;31m#df1 = df.apply(lambda x: df['Col1'].fillna(mean_col2) if mean_col2 > 5 else df['Col1'].fillna(0), axis=1)\u001b[0m\u001b[1;33m\u001b[0m\u001b[1;33m\u001b[0m\u001b[1;33m\u001b[0m\u001b[0m\n\u001b[0;32m     14\u001b[0m \u001b[1;31m#df1 = df['Col1'].apply(lambda x: df['Col1'].fillna(mean_col2) if mean_col2 > 5 else df['Col1'].fillna(0))\u001b[0m\u001b[1;33m\u001b[0m\u001b[1;33m\u001b[0m\u001b[1;33m\u001b[0m\u001b[0m\n\u001b[1;32m---> 15\u001b[1;33m \u001b[0mdf\u001b[0m\u001b[1;33m[\u001b[0m\u001b[1;34m'Col1'\u001b[0m\u001b[1;33m]\u001b[0m \u001b[1;33m=\u001b[0m  \u001b[0mlist\u001b[0m\u001b[1;33m(\u001b[0m\u001b[0mmap\u001b[0m\u001b[1;33m(\u001b[0m\u001b[1;32mlambda\u001b[0m \u001b[0mx\u001b[0m \u001b[1;33m:\u001b[0m \u001b[0mx\u001b[0m\u001b[1;33m.\u001b[0m\u001b[0mfillna\u001b[0m\u001b[1;33m(\u001b[0m\u001b[0mmean_col2\u001b[0m\u001b[1;33m)\u001b[0m \u001b[1;32mif\u001b[0m \u001b[0mx\u001b[0m \u001b[1;33m>\u001b[0m \u001b[1;36m0\u001b[0m \u001b[1;32melse\u001b[0m \u001b[1;36m0\u001b[0m\u001b[1;33m,\u001b[0m \u001b[0mdf\u001b[0m\u001b[1;33m[\u001b[0m\u001b[1;34m'Col1'\u001b[0m\u001b[1;33m]\u001b[0m\u001b[1;33m)\u001b[0m\u001b[1;33m)\u001b[0m\u001b[1;33m\u001b[0m\u001b[1;33m\u001b[0m\u001b[0m\n\u001b[0m\u001b[0;32m     16\u001b[0m \u001b[0mdf\u001b[0m\u001b[1;33m\u001b[0m\u001b[1;33m\u001b[0m\u001b[0m\n\u001b[0;32m     17\u001b[0m \u001b[1;33m\u001b[0m\u001b[0m\n",
      "\u001b[1;32m<ipython-input-71-e8af0857bfec>\u001b[0m in \u001b[0;36m<lambda>\u001b[1;34m(x)\u001b[0m\n\u001b[0;32m     13\u001b[0m \u001b[1;31m#df1 = df.apply(lambda x: df['Col1'].fillna(mean_col2) if mean_col2 > 5 else df['Col1'].fillna(0), axis=1)\u001b[0m\u001b[1;33m\u001b[0m\u001b[1;33m\u001b[0m\u001b[1;33m\u001b[0m\u001b[0m\n\u001b[0;32m     14\u001b[0m \u001b[1;31m#df1 = df['Col1'].apply(lambda x: df['Col1'].fillna(mean_col2) if mean_col2 > 5 else df['Col1'].fillna(0))\u001b[0m\u001b[1;33m\u001b[0m\u001b[1;33m\u001b[0m\u001b[1;33m\u001b[0m\u001b[0m\n\u001b[1;32m---> 15\u001b[1;33m \u001b[0mdf\u001b[0m\u001b[1;33m[\u001b[0m\u001b[1;34m'Col1'\u001b[0m\u001b[1;33m]\u001b[0m \u001b[1;33m=\u001b[0m  \u001b[0mlist\u001b[0m\u001b[1;33m(\u001b[0m\u001b[0mmap\u001b[0m\u001b[1;33m(\u001b[0m\u001b[1;32mlambda\u001b[0m \u001b[0mx\u001b[0m \u001b[1;33m:\u001b[0m \u001b[0mx\u001b[0m\u001b[1;33m.\u001b[0m\u001b[0mfillna\u001b[0m\u001b[1;33m(\u001b[0m\u001b[0mmean_col2\u001b[0m\u001b[1;33m)\u001b[0m \u001b[1;32mif\u001b[0m \u001b[0mx\u001b[0m \u001b[1;33m>\u001b[0m \u001b[1;36m0\u001b[0m \u001b[1;32melse\u001b[0m \u001b[1;36m0\u001b[0m\u001b[1;33m,\u001b[0m \u001b[0mdf\u001b[0m\u001b[1;33m[\u001b[0m\u001b[1;34m'Col1'\u001b[0m\u001b[1;33m]\u001b[0m\u001b[1;33m)\u001b[0m\u001b[1;33m)\u001b[0m\u001b[1;33m\u001b[0m\u001b[1;33m\u001b[0m\u001b[0m\n\u001b[0m\u001b[0;32m     16\u001b[0m \u001b[0mdf\u001b[0m\u001b[1;33m\u001b[0m\u001b[1;33m\u001b[0m\u001b[0m\n\u001b[0;32m     17\u001b[0m \u001b[1;33m\u001b[0m\u001b[0m\n",
      "\u001b[1;31mAttributeError\u001b[0m: 'float' object has no attribute 'fillna'"
     ]
    }
   ],
   "source": [
    "#2. Consider the below Dataframe.\n",
    "import pandas as pd\n",
    "import numpy as np\n",
    "df = pd.DataFrame({ 'Col1' : [1,np.NaN,3,np.NaN],\n",
    "                    'Col2' : [8,9,7,10]\n",
    "                  })\n",
    "mean_col2 = df['Col2'].mean()\n",
    "print(df)\n",
    "#df['Col1'] = df['Col1'].apply(lambda x:x.fillna(mean_col2) if x>5 else 0)\n",
    "#df['Col1'] =  list(map(lambda x : x.fillna(mean_col2) if x>5 else 0, df['Col1']))\n",
    "\n",
    "    \n",
    "#df1 = df.apply(lambda x: df['Col1'].fillna(mean_col2) if mean_col2 > 5 else df['Col1'].fillna(0), axis=1)\n",
    "#df1 = df['Col1'].apply(lambda x: df['Col1'].fillna(mean_col2) if mean_col2 > 5 else df['Col1'].fillna(0))\n",
    "df['Col1'] =  list(map(lambda x : x.fillna(mean_col2) if x > 0 else 0, df['Col1']))\n",
    "df\n",
    " "
   ]
  },
  {
   "cell_type": "code",
   "execution_count": 49,
   "metadata": {},
   "outputs": [
    {
     "name": "stdout",
     "output_type": "stream",
     "text": [
      "   var1\n",
      "0    10\n",
      "1   100\n",
      "2    40\n",
      "   var1  newvar1\n",
      "0    10      NaN\n",
      "1   100    100.0\n",
      "2    40      NaN\n"
     ]
    }
   ],
   "source": [
    "import numpy as np\n",
    "sample = pd.DataFrame({'var1':[10,100,40] })\n",
    "print(sample)\n",
    "sample['newvar1'] = sample.apply(lambda x: np.nan if x['var1'] < 90 else x['var1'], axis=1)\n",
    "print(sample)"
   ]
  },
  {
   "cell_type": "code",
   "execution_count": 72,
   "metadata": {},
   "outputs": [
    {
     "data": {
      "text/html": [
       "<div>\n",
       "<style scoped>\n",
       "    .dataframe tbody tr th:only-of-type {\n",
       "        vertical-align: middle;\n",
       "    }\n",
       "\n",
       "    .dataframe tbody tr th {\n",
       "        vertical-align: top;\n",
       "    }\n",
       "\n",
       "    .dataframe thead th {\n",
       "        text-align: right;\n",
       "    }\n",
       "</style>\n",
       "<table border=\"1\" class=\"dataframe\">\n",
       "  <thead>\n",
       "    <tr style=\"text-align: right;\">\n",
       "      <th></th>\n",
       "      <th>Hourly Rate</th>\n",
       "      <th>Daily Rate</th>\n",
       "    </tr>\n",
       "  </thead>\n",
       "  <tbody>\n",
       "    <tr>\n",
       "      <th>0</th>\n",
       "      <td>20.0</td>\n",
       "      <td>72.0</td>\n",
       "    </tr>\n",
       "    <tr>\n",
       "      <th>1</th>\n",
       "      <td>30.0</td>\n",
       "      <td>74.0</td>\n",
       "    </tr>\n",
       "    <tr>\n",
       "      <th>2</th>\n",
       "      <td>NaN</td>\n",
       "      <td>65.0</td>\n",
       "    </tr>\n",
       "    <tr>\n",
       "      <th>3</th>\n",
       "      <td>28.0</td>\n",
       "      <td>80.0</td>\n",
       "    </tr>\n",
       "    <tr>\n",
       "      <th>4</th>\n",
       "      <td>NaN</td>\n",
       "      <td>74.0</td>\n",
       "    </tr>\n",
       "    <tr>\n",
       "      <th>5</th>\n",
       "      <td>17.0</td>\n",
       "      <td>NaN</td>\n",
       "    </tr>\n",
       "    <tr>\n",
       "      <th>6</th>\n",
       "      <td>NaN</td>\n",
       "      <td>67.0</td>\n",
       "    </tr>\n",
       "    <tr>\n",
       "      <th>7</th>\n",
       "      <td>22.0</td>\n",
       "      <td>82.0</td>\n",
       "    </tr>\n",
       "    <tr>\n",
       "      <th>8</th>\n",
       "      <td>32.0</td>\n",
       "      <td>75.0</td>\n",
       "    </tr>\n",
       "  </tbody>\n",
       "</table>\n",
       "</div>"
      ],
      "text/plain": [
       "   Hourly Rate  Daily Rate\n",
       "0         20.0        72.0\n",
       "1         30.0        74.0\n",
       "2          NaN        65.0\n",
       "3         28.0        80.0\n",
       "4          NaN        74.0\n",
       "5         17.0         NaN\n",
       "6          NaN        67.0\n",
       "7         22.0        82.0\n",
       "8         32.0        75.0"
      ]
     },
     "execution_count": 72,
     "metadata": {},
     "output_type": "execute_result"
    }
   ],
   "source": [
    "import pandas as pd\n",
    "import numpy as np\n",
    " \n",
    "df = pd.DataFrame({\n",
    "    'Hourly Rate': [20, 30, np.nan, 28, np.nan, 17, np.nan,22, 32],\n",
    "    'Daily Rate': [72, 74,65,80, 74, np.nan, 67,82,75]}) \n",
    "df"
   ]
  },
  {
   "cell_type": "code",
   "execution_count": 75,
   "metadata": {},
   "outputs": [
    {
     "data": {
      "text/html": [
       "<div>\n",
       "<style scoped>\n",
       "    .dataframe tbody tr th:only-of-type {\n",
       "        vertical-align: middle;\n",
       "    }\n",
       "\n",
       "    .dataframe tbody tr th {\n",
       "        vertical-align: top;\n",
       "    }\n",
       "\n",
       "    .dataframe thead th {\n",
       "        text-align: right;\n",
       "    }\n",
       "</style>\n",
       "<table border=\"1\" class=\"dataframe\">\n",
       "  <thead>\n",
       "    <tr style=\"text-align: right;\">\n",
       "      <th></th>\n",
       "      <th>Hourly Rate</th>\n",
       "      <th>Daily Rate</th>\n",
       "      <th>Final Rate</th>\n",
       "    </tr>\n",
       "  </thead>\n",
       "  <tbody>\n",
       "    <tr>\n",
       "      <th>0</th>\n",
       "      <td>20.0</td>\n",
       "      <td>72.0</td>\n",
       "      <td>20.0</td>\n",
       "    </tr>\n",
       "    <tr>\n",
       "      <th>1</th>\n",
       "      <td>30.0</td>\n",
       "      <td>74.0</td>\n",
       "      <td>30.0</td>\n",
       "    </tr>\n",
       "    <tr>\n",
       "      <th>2</th>\n",
       "      <td>NaN</td>\n",
       "      <td>65.0</td>\n",
       "      <td>65.0</td>\n",
       "    </tr>\n",
       "    <tr>\n",
       "      <th>3</th>\n",
       "      <td>28.0</td>\n",
       "      <td>80.0</td>\n",
       "      <td>28.0</td>\n",
       "    </tr>\n",
       "    <tr>\n",
       "      <th>4</th>\n",
       "      <td>NaN</td>\n",
       "      <td>74.0</td>\n",
       "      <td>74.0</td>\n",
       "    </tr>\n",
       "    <tr>\n",
       "      <th>5</th>\n",
       "      <td>17.0</td>\n",
       "      <td>NaN</td>\n",
       "      <td>17.0</td>\n",
       "    </tr>\n",
       "    <tr>\n",
       "      <th>6</th>\n",
       "      <td>NaN</td>\n",
       "      <td>67.0</td>\n",
       "      <td>67.0</td>\n",
       "    </tr>\n",
       "    <tr>\n",
       "      <th>7</th>\n",
       "      <td>22.0</td>\n",
       "      <td>82.0</td>\n",
       "      <td>22.0</td>\n",
       "    </tr>\n",
       "    <tr>\n",
       "      <th>8</th>\n",
       "      <td>32.0</td>\n",
       "      <td>75.0</td>\n",
       "      <td>32.0</td>\n",
       "    </tr>\n",
       "  </tbody>\n",
       "</table>\n",
       "</div>"
      ],
      "text/plain": [
       "   Hourly Rate  Daily Rate  Final Rate\n",
       "0         20.0        72.0        20.0\n",
       "1         30.0        74.0        30.0\n",
       "2          NaN        65.0        65.0\n",
       "3         28.0        80.0        28.0\n",
       "4          NaN        74.0        74.0\n",
       "5         17.0         NaN        17.0\n",
       "6          NaN        67.0        67.0\n",
       "7         22.0        82.0        22.0\n",
       "8         32.0        75.0        32.0"
      ]
     },
     "execution_count": 75,
     "metadata": {},
     "output_type": "execute_result"
    }
   ],
   "source": [
    "df['Final Rate'] = np.where(df['Hourly Rate'].isnull(),df['Daily Rate'],df['Hourly Rate'])\n",
    "df"
   ]
  },
  {
   "cell_type": "markdown",
   "metadata": {},
   "source": [
    "# In the roedata.csv file, I want to replace all the Negative values in the ROE column reset to 0. How can I do it?"
   ]
  },
  {
   "cell_type": "code",
   "execution_count": 27,
   "metadata": {},
   "outputs": [],
   "source": [
    "#In the roedata.csv file, I want to replace all the Negative values in the ROE column reset to 0. How can I do it?"
   ]
  },
  {
   "cell_type": "code",
   "execution_count": 7,
   "metadata": {},
   "outputs": [
    {
     "name": "stdout",
     "output_type": "stream",
     "text": [
      "       Industry Name  Number of firms     ROE\n",
      "0        Advertising               65  16.51%\n",
      "1  Aerospace/Defense               95  21.60%\n",
      "2      Air Transport               25  42.68%\n",
      "3            Apparel               70  17.87%\n",
      "4       Auto & Truck               26  22.05%\n"
     ]
    },
    {
     "data": {
      "text/plain": [
       "list"
      ]
     },
     "execution_count": 7,
     "metadata": {},
     "output_type": "execute_result"
    }
   ],
   "source": [
    "import pandas as pd\n",
    "local_path = 'C:\\\\Users\\\\Venkata Sai\\\\Desktop\\\\PYTHON\\\\UPX_LMS\\\\'\n",
    "roe_dataset = pd.read_csv('attachment_roedata_lyst8606.csv')\n",
    "print(roe_dataset.head())\n",
    "\n",
    "type([roe_dataset['ROE']])"
   ]
  },
  {
   "cell_type": "code",
   "execution_count": 13,
   "metadata": {},
   "outputs": [
    {
     "name": "stdout",
     "output_type": "stream",
     "text": [
      "                          Industry Name  Number of firms      ROE\n",
      "0                           Advertising               65   16.51%\n",
      "1                     Aerospace/Defense               95   21.60%\n",
      "2                         Air Transport               25   42.68%\n",
      "3                               Apparel               70   17.87%\n",
      "4                          Auto & Truck               26   22.05%\n",
      "5                            Auto Parts               75   17.54%\n",
      "6                                  Bank                7   15.03%\n",
      "7                      Banks (Regional)              721    9.52%\n",
      "8                             Beverage                47   27.62%\n",
      "9                  Beverage (Alcoholic)               19   18.28%\n",
      "10                        Biotechnology              349    6.77%\n",
      "11                         Broadcasting               30   74.10%\n",
      "12       Brokerage & Investment Banking               49    9.25%\n",
      "13                   Building Materials               37    6.78%\n",
      "14         Business & Consumer Services              179   12.48%\n",
      "15                             Cable TV               16   26.62%\n",
      "16                     Chemical (Basic)               47    8.80%\n",
      "17               Chemical (Diversified)               10   24.33%\n",
      "18                 Chemical (Specialty)              100   22.10%\n",
      "19                Coal & Related Energy               45        0\n",
      "20                    Computer Services              129   39.46%\n",
      "21                    Computer Software              273   21.53%\n",
      "22                Computers/Peripherals               66   24.55%\n",
      "23                         Construction               18    3.62%\n",
      "24                          Diversified               20   13.06%\n",
      "25                 Educational Services               40        0\n",
      "26                 Electrical Equipment              135   13.67%\n",
      "27                          Electronics              191    7.98%\n",
      "28      Electronics (Consumer & Office)               26   25.66%\n",
      "29                          Engineering               56    7.61%\n",
      "..                                  ...              ...      ...\n",
      "67                             Railroad               10   19.85%\n",
      "68            Real Estate (Development)               22        0\n",
      "69    Real Estate (General/Diversified)               11    1.02%\n",
      "70  Real Estate (Operations & Services)               47   19.84%\n",
      "71                           Recreation               70   18.03%\n",
      "72                          Reinsurance                3    6.05%\n",
      "73                           Restaurant               84   27.46%\n",
      "74                  Retail (Automotive)               30   30.79%\n",
      "75             Retail (Building Supply)                7   23.12%\n",
      "76                Retail (Distributors)               87   12.92%\n",
      "77                     Retail (General)               21   17.68%\n",
      "78            Retail (Grocery and Food)               21   10.91%\n",
      "79                    Retail (Internet)               47   18.36%\n",
      "80               Retail (Special Lines)              137   17.29%\n",
      "81                        Rubber& Tires                4   45.41%\n",
      "82                        Semiconductor              104   13.14%\n",
      "83                  Semiconductor Equip               51        0\n",
      "84                Shipbuilding & Marine               14    0.37%\n",
      "85                                 Shoe               14   24.27%\n",
      "86                                Steel               37        0\n",
      "87                   Telecom (Wireless)               28        0\n",
      "88                   Telecom. Equipment              131   15.67%\n",
      "89                    Telecom. Services               82    5.78%\n",
      "90                               Thrift              223        0\n",
      "91                              Tobacco               12  214.71%\n",
      "92                       Transportation               22   14.75%\n",
      "93                             Trucking               28   16.01%\n",
      "94                    Utility (General)               20    7.34%\n",
      "95                      Utility (Water)               20    9.95%\n",
      "96                         Total Market             7766   15.68%\n",
      "\n",
      "[97 rows x 3 columns]\n"
     ]
    }
   ],
   "source": [
    "new_values = []\n",
    "for value in roe_dataset['ROE']:\n",
    "    if value.startswith('-') == True:\n",
    "        new_values.append(0)\n",
    "    else:\n",
    "        new_values.append(value)\n",
    "        \n",
    "#delete the 'ROE' column\n",
    "roe_dataset.drop(['ROE'],axis =1)   \n",
    "\n",
    "#Add the 'ROE'column\n",
    "roe_dataset['ROE'] = new_values\n",
    "\n",
    "print(roe_dataset)"
   ]
  },
  {
   "cell_type": "markdown",
   "metadata": {},
   "source": [
    "# In the below dataframe, replace all the NaN values in the First_name, last_name, age and sex using whichever method you find comfortable. Then fill in missing postTestScore values with each sex's mean value of postTestScore."
   ]
  },
  {
   "cell_type": "code",
   "execution_count": 17,
   "metadata": {},
   "outputs": [
    {
     "data": {
      "text/html": [
       "<div>\n",
       "<style scoped>\n",
       "    .dataframe tbody tr th:only-of-type {\n",
       "        vertical-align: middle;\n",
       "    }\n",
       "\n",
       "    .dataframe tbody tr th {\n",
       "        vertical-align: top;\n",
       "    }\n",
       "\n",
       "    .dataframe thead th {\n",
       "        text-align: right;\n",
       "    }\n",
       "</style>\n",
       "<table border=\"1\" class=\"dataframe\">\n",
       "  <thead>\n",
       "    <tr style=\"text-align: right;\">\n",
       "      <th></th>\n",
       "      <th>first_name</th>\n",
       "      <th>last_name</th>\n",
       "      <th>age</th>\n",
       "      <th>sex</th>\n",
       "      <th>preTestScore</th>\n",
       "      <th>postTestScore</th>\n",
       "      <th>locaiton</th>\n",
       "    </tr>\n",
       "  </thead>\n",
       "  <tbody>\n",
       "    <tr>\n",
       "      <th>0</th>\n",
       "      <td>Janson</td>\n",
       "      <td>Miller</td>\n",
       "      <td>42.0</td>\n",
       "      <td>m</td>\n",
       "      <td>4</td>\n",
       "      <td>25.0</td>\n",
       "      <td>NaN</td>\n",
       "    </tr>\n",
       "    <tr>\n",
       "      <th>1</th>\n",
       "      <td>NaN</td>\n",
       "      <td>NaN</td>\n",
       "      <td>NaN</td>\n",
       "      <td>NaN</td>\n",
       "      <td>3</td>\n",
       "      <td>NaN</td>\n",
       "      <td>NaN</td>\n",
       "    </tr>\n",
       "    <tr>\n",
       "      <th>2</th>\n",
       "      <td>Tina</td>\n",
       "      <td>Ali</td>\n",
       "      <td>36.0</td>\n",
       "      <td>f</td>\n",
       "      <td>3</td>\n",
       "      <td>70.0</td>\n",
       "      <td>NaN</td>\n",
       "    </tr>\n",
       "    <tr>\n",
       "      <th>3</th>\n",
       "      <td>Jake</td>\n",
       "      <td>Milner</td>\n",
       "      <td>24.0</td>\n",
       "      <td>m</td>\n",
       "      <td>2</td>\n",
       "      <td>62.0</td>\n",
       "      <td>NaN</td>\n",
       "    </tr>\n",
       "    <tr>\n",
       "      <th>4</th>\n",
       "      <td>Amy</td>\n",
       "      <td>Cooze</td>\n",
       "      <td>73.0</td>\n",
       "      <td>f</td>\n",
       "      <td>3</td>\n",
       "      <td>70.0</td>\n",
       "      <td>NaN</td>\n",
       "    </tr>\n",
       "  </tbody>\n",
       "</table>\n",
       "</div>"
      ],
      "text/plain": [
       "  first_name last_name   age  sex  preTestScore  postTestScore  locaiton\n",
       "0     Janson    Miller  42.0    m             4           25.0       NaN\n",
       "1        NaN       NaN   NaN  NaN             3            NaN       NaN\n",
       "2       Tina       Ali  36.0    f             3           70.0       NaN\n",
       "3       Jake    Milner  24.0    m             2           62.0       NaN\n",
       "4        Amy     Cooze  73.0    f             3           70.0       NaN"
      ]
     },
     "execution_count": 17,
     "metadata": {},
     "output_type": "execute_result"
    }
   ],
   "source": [
    "import pandas as pd\n",
    "import numpy as np\n",
    "\n",
    "data = ({\n",
    "        'first_name':['Janson',np.nan,'Tina','Jake','Amy'],\n",
    "        'last_name':['Miller',np.nan,'Ali','Milner','Cooze'],\n",
    "        'age':[42,None,36,24,73],\n",
    "        'sex':['m',np.nan,'f','m','f'],\n",
    "        'preTestScore':[4,3,3,2,3],\n",
    "        'postTestScore':[25,None,70,62,70],\n",
    "        'locaiton':[np.nan,np.nan,np.nan,np.nan,np.nan]\n",
    "})\n",
    "df = pd.DataFrame(data)\n",
    "df"
   ]
  },
  {
   "cell_type": "code",
   "execution_count": 22,
   "metadata": {},
   "outputs": [
    {
     "name": "stderr",
     "output_type": "stream",
     "text": [
      "C:\\Users\\Venkata Sai\\Anaconda3\\lib\\site-packages\\pandas\\core\\frame.py:4034: SettingWithCopyWarning: \n",
      "A value is trying to be set on a copy of a slice from a DataFrame\n",
      "\n",
      "See the caveats in the documentation: http://pandas.pydata.org/pandas-docs/stable/indexing.html#indexing-view-versus-copy\n",
      "  downcast=downcast, **kwargs)\n"
     ]
    }
   ],
   "source": [
    "#replace all the NaN values in the First_name, last_name, age and sex using whichever method you find comfortable\n",
    "# applying bfill() method to fill the missing values \n",
    "\n",
    "\n",
    "# replacing na values in college with No college \n",
    "df[['first_name','last_name','age','sex']].fillna(df[['first_name','last_name','age','sex']].bfill, inplace = True)"
   ]
  },
  {
   "cell_type": "code",
   "execution_count": 23,
   "metadata": {},
   "outputs": [
    {
     "data": {
      "text/html": [
       "<div>\n",
       "<style scoped>\n",
       "    .dataframe tbody tr th:only-of-type {\n",
       "        vertical-align: middle;\n",
       "    }\n",
       "\n",
       "    .dataframe tbody tr th {\n",
       "        vertical-align: top;\n",
       "    }\n",
       "\n",
       "    .dataframe thead th {\n",
       "        text-align: right;\n",
       "    }\n",
       "</style>\n",
       "<table border=\"1\" class=\"dataframe\">\n",
       "  <thead>\n",
       "    <tr style=\"text-align: right;\">\n",
       "      <th></th>\n",
       "      <th>first_name</th>\n",
       "      <th>last_name</th>\n",
       "      <th>age</th>\n",
       "      <th>sex</th>\n",
       "      <th>preTestScore</th>\n",
       "      <th>postTestScore</th>\n",
       "      <th>locaiton</th>\n",
       "    </tr>\n",
       "  </thead>\n",
       "  <tbody>\n",
       "    <tr>\n",
       "      <th>0</th>\n",
       "      <td>Janson</td>\n",
       "      <td>Miller</td>\n",
       "      <td>42.0</td>\n",
       "      <td>m</td>\n",
       "      <td>4</td>\n",
       "      <td>25.0</td>\n",
       "      <td>NaN</td>\n",
       "    </tr>\n",
       "    <tr>\n",
       "      <th>1</th>\n",
       "      <td>NaN</td>\n",
       "      <td>NaN</td>\n",
       "      <td>NaN</td>\n",
       "      <td>NaN</td>\n",
       "      <td>3</td>\n",
       "      <td>NaN</td>\n",
       "      <td>NaN</td>\n",
       "    </tr>\n",
       "    <tr>\n",
       "      <th>2</th>\n",
       "      <td>Tina</td>\n",
       "      <td>Ali</td>\n",
       "      <td>36.0</td>\n",
       "      <td>f</td>\n",
       "      <td>3</td>\n",
       "      <td>70.0</td>\n",
       "      <td>NaN</td>\n",
       "    </tr>\n",
       "    <tr>\n",
       "      <th>3</th>\n",
       "      <td>Jake</td>\n",
       "      <td>Milner</td>\n",
       "      <td>24.0</td>\n",
       "      <td>m</td>\n",
       "      <td>2</td>\n",
       "      <td>62.0</td>\n",
       "      <td>NaN</td>\n",
       "    </tr>\n",
       "    <tr>\n",
       "      <th>4</th>\n",
       "      <td>Amy</td>\n",
       "      <td>Cooze</td>\n",
       "      <td>73.0</td>\n",
       "      <td>f</td>\n",
       "      <td>3</td>\n",
       "      <td>70.0</td>\n",
       "      <td>NaN</td>\n",
       "    </tr>\n",
       "  </tbody>\n",
       "</table>\n",
       "</div>"
      ],
      "text/plain": [
       "  first_name last_name   age  sex  preTestScore  postTestScore  locaiton\n",
       "0     Janson    Miller  42.0    m             4           25.0       NaN\n",
       "1        NaN       NaN   NaN  NaN             3            NaN       NaN\n",
       "2       Tina       Ali  36.0    f             3           70.0       NaN\n",
       "3       Jake    Milner  24.0    m             2           62.0       NaN\n",
       "4        Amy     Cooze  73.0    f             3           70.0       NaN"
      ]
     },
     "execution_count": 23,
     "metadata": {},
     "output_type": "execute_result"
    }
   ],
   "source": [
    "df"
   ]
  },
  {
   "cell_type": "code",
   "execution_count": 26,
   "metadata": {},
   "outputs": [
    {
     "data": {
      "text/html": [
       "<div>\n",
       "<style scoped>\n",
       "    .dataframe tbody tr th:only-of-type {\n",
       "        vertical-align: middle;\n",
       "    }\n",
       "\n",
       "    .dataframe tbody tr th {\n",
       "        vertical-align: top;\n",
       "    }\n",
       "\n",
       "    .dataframe thead th {\n",
       "        text-align: right;\n",
       "    }\n",
       "</style>\n",
       "<table border=\"1\" class=\"dataframe\">\n",
       "  <thead>\n",
       "    <tr style=\"text-align: right;\">\n",
       "      <th></th>\n",
       "      <th>first_name</th>\n",
       "      <th>last_name</th>\n",
       "      <th>age</th>\n",
       "      <th>sex</th>\n",
       "    </tr>\n",
       "  </thead>\n",
       "  <tbody>\n",
       "    <tr>\n",
       "      <th>0</th>\n",
       "      <td>Janson</td>\n",
       "      <td>Miller</td>\n",
       "      <td>42.0</td>\n",
       "      <td>m</td>\n",
       "    </tr>\n",
       "    <tr>\n",
       "      <th>1</th>\n",
       "      <td>Tina</td>\n",
       "      <td>Ali</td>\n",
       "      <td>36.0</td>\n",
       "      <td>f</td>\n",
       "    </tr>\n",
       "    <tr>\n",
       "      <th>2</th>\n",
       "      <td>Tina</td>\n",
       "      <td>Ali</td>\n",
       "      <td>36.0</td>\n",
       "      <td>f</td>\n",
       "    </tr>\n",
       "    <tr>\n",
       "      <th>3</th>\n",
       "      <td>Jake</td>\n",
       "      <td>Milner</td>\n",
       "      <td>24.0</td>\n",
       "      <td>m</td>\n",
       "    </tr>\n",
       "    <tr>\n",
       "      <th>4</th>\n",
       "      <td>Amy</td>\n",
       "      <td>Cooze</td>\n",
       "      <td>73.0</td>\n",
       "      <td>f</td>\n",
       "    </tr>\n",
       "  </tbody>\n",
       "</table>\n",
       "</div>"
      ],
      "text/plain": [
       "  first_name last_name   age sex\n",
       "0     Janson    Miller  42.0   m\n",
       "1       Tina       Ali  36.0   f\n",
       "2       Tina       Ali  36.0   f\n",
       "3       Jake    Milner  24.0   m\n",
       "4        Amy     Cooze  73.0   f"
      ]
     },
     "execution_count": 26,
     "metadata": {},
     "output_type": "execute_result"
    }
   ],
   "source": [
    "df[['first_name','last_name','age','sex']].bfill(axis = 0)"
   ]
  },
  {
   "cell_type": "code",
   "execution_count": 28,
   "metadata": {},
   "outputs": [
    {
     "data": {
      "text/html": [
       "<div>\n",
       "<style scoped>\n",
       "    .dataframe tbody tr th:only-of-type {\n",
       "        vertical-align: middle;\n",
       "    }\n",
       "\n",
       "    .dataframe tbody tr th {\n",
       "        vertical-align: top;\n",
       "    }\n",
       "\n",
       "    .dataframe thead th {\n",
       "        text-align: right;\n",
       "    }\n",
       "</style>\n",
       "<table border=\"1\" class=\"dataframe\">\n",
       "  <thead>\n",
       "    <tr style=\"text-align: right;\">\n",
       "      <th></th>\n",
       "      <th>first_name</th>\n",
       "      <th>last_name</th>\n",
       "      <th>age</th>\n",
       "      <th>sex</th>\n",
       "      <th>preTestScore</th>\n",
       "      <th>postTestScore</th>\n",
       "      <th>locaiton</th>\n",
       "    </tr>\n",
       "  </thead>\n",
       "  <tbody>\n",
       "    <tr>\n",
       "      <th>0</th>\n",
       "      <td>Janson</td>\n",
       "      <td>Miller</td>\n",
       "      <td>42.0</td>\n",
       "      <td>m</td>\n",
       "      <td>4</td>\n",
       "      <td>25.0</td>\n",
       "      <td>NaN</td>\n",
       "    </tr>\n",
       "    <tr>\n",
       "      <th>1</th>\n",
       "      <td>NaN</td>\n",
       "      <td>NaN</td>\n",
       "      <td>NaN</td>\n",
       "      <td>NaN</td>\n",
       "      <td>3</td>\n",
       "      <td>NaN</td>\n",
       "      <td>NaN</td>\n",
       "    </tr>\n",
       "    <tr>\n",
       "      <th>2</th>\n",
       "      <td>Tina</td>\n",
       "      <td>Ali</td>\n",
       "      <td>36.0</td>\n",
       "      <td>f</td>\n",
       "      <td>3</td>\n",
       "      <td>70.0</td>\n",
       "      <td>NaN</td>\n",
       "    </tr>\n",
       "    <tr>\n",
       "      <th>3</th>\n",
       "      <td>Jake</td>\n",
       "      <td>Milner</td>\n",
       "      <td>24.0</td>\n",
       "      <td>m</td>\n",
       "      <td>2</td>\n",
       "      <td>62.0</td>\n",
       "      <td>NaN</td>\n",
       "    </tr>\n",
       "    <tr>\n",
       "      <th>4</th>\n",
       "      <td>Amy</td>\n",
       "      <td>Cooze</td>\n",
       "      <td>73.0</td>\n",
       "      <td>f</td>\n",
       "      <td>3</td>\n",
       "      <td>70.0</td>\n",
       "      <td>NaN</td>\n",
       "    </tr>\n",
       "  </tbody>\n",
       "</table>\n",
       "</div>"
      ],
      "text/plain": [
       "  first_name last_name   age  sex  preTestScore  postTestScore  locaiton\n",
       "0     Janson    Miller  42.0    m             4           25.0       NaN\n",
       "1        NaN       NaN   NaN  NaN             3            NaN       NaN\n",
       "2       Tina       Ali  36.0    f             3           70.0       NaN\n",
       "3       Jake    Milner  24.0    m             2           62.0       NaN\n",
       "4        Amy     Cooze  73.0    f             3           70.0       NaN"
      ]
     },
     "execution_count": 28,
     "metadata": {},
     "output_type": "execute_result"
    }
   ],
   "source": [
    "#fill in missing postTestScore values with each sex's mean value of postTestScore\n",
    "df[\"postTestScore\"].fillna(df.groupby(\"sex\")[\"postTestScore\"].transform(\"mean\"), inplace=True)\n",
    "df"
   ]
  },
  {
   "cell_type": "code",
   "execution_count": null,
   "metadata": {},
   "outputs": [],
   "source": []
  },
  {
   "cell_type": "markdown",
   "metadata": {},
   "source": [
    "# 5. In the below dataframes, I want the NaN values in left dataframe to be replaced with those of right dataframe. How will you do it in a single line?"
   ]
  },
  {
   "cell_type": "code",
   "execution_count": 32,
   "metadata": {},
   "outputs": [
    {
     "name": "stdout",
     "output_type": "stream",
     "text": [
      "\n",
      "     0    1\n",
      "0  NaN  2.0\n",
      "1  3.0  NaN\n",
      "\n",
      "    0   1\n",
      "0  10  11\n",
      "1  12  13\n",
      "\n",
      "    0   1\n",
      "0  10  11\n",
      "1  12  13\n",
      "\n",
      "     0    1\n",
      "0  NaN  2.0\n",
      "1  3.0  NaN\n"
     ]
    }
   ],
   "source": [
    "import pandas as pd\n",
    "import numpy as np\n",
    "\n",
    "dataset1 = pd.DataFrame([[np.nan,2],[3,np.nan]])\n",
    "print();print(dataset1)\n",
    "\n",
    "dataset2 = pd.DataFrame([[10,11],[12,13]])\n",
    "print();print(dataset2)\n",
    "\n",
    "# swapping two datasets without using temporary variable\n",
    "dataset1, dataset2 = dataset2, dataset1\n",
    "\n",
    "print();print(dataset1)\n",
    "print();print(dataset2)"
   ]
  },
  {
   "cell_type": "code",
   "execution_count": 31,
   "metadata": {},
   "outputs": [
    {
     "name": "stdout",
     "output_type": "stream",
     "text": [
      "\n",
      "    0   1\n",
      "0  10  11\n",
      "1  12  13\n",
      "\n",
      "     0    1\n",
      "0  NaN  2.0\n",
      "1  3.0  NaN\n"
     ]
    }
   ],
   "source": []
  },
  {
   "cell_type": "code",
   "execution_count": null,
   "metadata": {},
   "outputs": [],
   "source": []
  },
  {
   "cell_type": "code",
   "execution_count": null,
   "metadata": {},
   "outputs": [],
   "source": []
  }
 ],
 "metadata": {
  "kernelspec": {
   "display_name": "Python 3",
   "language": "python",
   "name": "python3"
  },
  "language_info": {
   "codemirror_mode": {
    "name": "ipython",
    "version": 3
   },
   "file_extension": ".py",
   "mimetype": "text/x-python",
   "name": "python",
   "nbconvert_exporter": "python",
   "pygments_lexer": "ipython3",
   "version": "3.7.3"
  }
 },
 "nbformat": 4,
 "nbformat_minor": 2
}
