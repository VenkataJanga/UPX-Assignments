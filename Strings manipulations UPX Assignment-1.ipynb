{
 "cells": [
  {
   "cell_type": "code",
   "execution_count": 90,
   "metadata": {},
   "outputs": [
    {
     "name": "stdout",
     "output_type": "stream",
     "text": [
      "'Apples are better than \\nOranges'\n"
     ]
    }
   ],
   "source": [
    "# I want to print the below string as it is. How do i that?\n",
    "str='Apples are better than \\nOranges'\n",
    "print(repr(str))"
   ]
  },
  {
   "cell_type": "code",
   "execution_count": 86,
   "metadata": {},
   "outputs": [
    {
     "name": "stdout",
     "output_type": "stream",
     "text": [
      "['I love python because ', ' is so easy to use ', ' and also ', ' is used by many other IT companies']\n"
     ]
    }
   ],
   "source": [
    "#I want you to split the below string on the separator “it”. How will you do it?\n",
    "string_ex = 'I love python because it is so easy to use it and also it is used by many other IT companies'\n",
    "\n",
    "arr = string_ex.split('it');\n",
    "print(arr)"
   ]
  },
  {
   "cell_type": "code",
   "execution_count": 11,
   "metadata": {},
   "outputs": [
    {
     "name": "stdout",
     "output_type": "stream",
     "text": [
      "i lOVE pYTON\n"
     ]
    }
   ],
   "source": [
    "# 3. How do you swap the cases of letters in the above input string?str_ex = “I Love Pyton”\n",
    "str_ex = 'I Love Pyton'\n",
    "print(str_ex.swapcase())"
   ]
  },
  {
   "cell_type": "code",
   "execution_count": 16,
   "metadata": {},
   "outputs": [
    {
     "name": "stdout",
     "output_type": "stream",
     "text": [
      "Hey how ar_oing great\n"
     ]
    }
   ],
   "source": [
    "# 4.str_input = “Hey how are you doing. I am doing great”\n",
    "#Get the first 10 characters and the last 10 characters of the above the string and join them with a “_”\n",
    "\n",
    "str_input = 'Hey how are you doing. I am doing great'\n",
    "#first_10_char = str_input[0:10]\n",
    "#last_10_char=str_input[-10:] \n",
    "print(str_input[0:10]+'_'+last_10_char)"
   ]
  },
  {
   "cell_type": "code",
   "execution_count": 23,
   "metadata": {},
   "outputs": [
    {
     "name": "stdout",
     "output_type": "stream",
     "text": [
      "Before Swap the two strings after concatenatoin\tHot@ies\n",
      "======================================================================================\n",
      "After Swap the two strings after concatenatoin\ties@Hot\n"
     ]
    }
   ],
   "source": [
    "#5.string1 = “Hotelspace” string2=”Facilities”\n",
    "#I want you to swap the first three letters and last three letters of both the strings and\n",
    "#print the output by separating them with a “@”\n",
    "\n",
    "string1 = 'Hotelspace'\n",
    "string2='Facilities'\n",
    "temp=''\n",
    "first_3_letters = string1[0:3]\n",
    "last_3_letters = string2[-3:]\n",
    "print('Before Swap the two strings after concatenatoin\\t'+first_3_letters+'@'+last_3_letters)\n",
    "temp = first_3_letters\n",
    "first_3_letters = last_3_letters\n",
    "last_3_letters = temp\n",
    "print('======================================================================================')\n",
    "print('After Swap the two strings after concatenatoin\\t'+first_3_letters+'@'+last_3_letters)\n"
   ]
  },
  {
   "cell_type": "code",
   "execution_count": 33,
   "metadata": {},
   "outputs": [
    {
     "name": "stdout",
     "output_type": "stream",
     "text": [
      "Before Swap the two strings\tHot@ies\n",
      "After Swap the two strings\ties@Hot\n"
     ]
    }
   ],
   "source": [
    "#Swap the two strings without using thid variable\n",
    "string1 = 'Hotelspace'\n",
    "string2='Facilities'\n",
    "first_3_letters = string1[0:3]\n",
    "last_3_letters = string2[-3:]\n",
    "\n",
    "def swpa_two_strings(first_3_letters,last_3_letters):\n",
    "    return (last_3_letters,first_3_letters)\n",
    "\n",
    "print('Before Swap the two strings\\t'+first_3_letters+'@'+last_3_letters)\n",
    "\n",
    "first_3_letters,last_3_letters = swpa_two_strings(first_3_letters,last_3_letters);\n",
    "print('After Swap the two strings\\t'+first_3_letters+'@'+last_3_letters)\n",
    "\n"
   ]
  },
  {
   "cell_type": "code",
   "execution_count": 92,
   "metadata": {},
   "outputs": [
    {
     "name": "stdout",
     "output_type": "stream",
     "text": [
      "Worl\n"
     ]
    }
   ],
   "source": [
    "# 6. strr = 'Hello World'\n",
    "#How do you extract the string ‘Worl’ from the above string using negative index?\n",
    "strr = 'Hello World'\n",
    "print(strr[-5:][:4] )"
   ]
  },
  {
   "cell_type": "code",
   "execution_count": 85,
   "metadata": {},
   "outputs": [
    {
     "name": "stdout",
     "output_type": "stream",
     "text": [
      "Before removing duplicates from new string is \tIndia is a great country with a lot of heritage South Africa is a great country with a lot of freedom\n",
      "===============================================================\n",
      "After removing duplicates from new string is \tIndia is a great country with lot of heritage South Africa freedom\n"
     ]
    }
   ],
   "source": [
    "#8 str_s = “India is a great country with a lot of heritage”\n",
    "#str_x = “South Africa is a great country with a lot of freedom”\n",
    "#I want you to remove the common words appearing in the above strings and\n",
    "#display the left- over words as one single string.\n",
    "from collections import Counter \n",
    "str_s = 'India is a great country with a lot of heritage'\n",
    "str_x = 'South Africa is a great country with a lot of freedom'\n",
    "new_string = str_s+' '+str_x\n",
    "print(\"Before removing duplicates from new string is \\t\"+new_string)\n",
    "print(\"===============================================================\")\n",
    "new_string = new_string.split(\" \") \n",
    "\n",
    "for word in range(0,len(new_string)):\n",
    "    new_string[word] = ''.join(new_string[word])\n",
    "\n",
    "unique_string = Counter(new_string)\n",
    "result_string = ' '.join(unique_string.keys()) \n",
    "print(\"After removing duplicates from new string is \\t\"+result_string)\n"
   ]
  },
  {
   "cell_type": "code",
   "execution_count": 119,
   "metadata": {},
   "outputs": [
    {
     "name": "stdout",
     "output_type": "stream",
     "text": [
      "{'T', ' ', 'n', 'q', 'r', 'c', 'g', 't', 'i', 'o', 's', 'k', 'a', 'h', 'e', 'u'}\n"
     ]
    }
   ],
   "source": [
    "variable1='This is a test to check the unique characters in the string'\n",
    "#new_str =  ''.join(set(variable1))\n",
    "new_str = set(variable1)\n",
    "print(new_str)"
   ]
  },
  {
   "cell_type": "code",
   "execution_count": 129,
   "metadata": {},
   "outputs": [
    {
     "name": "stdout",
     "output_type": "stream",
     "text": [
      "Taceghiknoqrstu\n"
     ]
    }
   ],
   "source": [
    "import string\n",
    "# Example value of s, a string\n",
    "variable1='This is a test to check the unique characters in the string'\n",
    "# Result variable to store the resulting string\n",
    "result = ''\n",
    "# Goes through each letter in the alphabet and checks how many times it appears.\n",
    "# If a letter appears at least once, then it is added to the result variable\n",
    "for letter in string.ascii_letters:\n",
    "    if variable1.count(letter) >= 1:\n",
    "        result+=letter\n",
    "\n",
    "# Optional three lines to convert result variable to a list for sorting\n",
    "# and then back to a string\n",
    "result = list(result)\n",
    "result.sort()\n",
    "result = ''.join(result)\n",
    "\n",
    "print(result)\n"
   ]
  },
  {
   "cell_type": "code",
   "execution_count": null,
   "metadata": {},
   "outputs": [],
   "source": []
  }
 ],
 "metadata": {
  "kernelspec": {
   "display_name": "Python 3",
   "language": "python",
   "name": "python3"
  },
  "language_info": {
   "codemirror_mode": {
    "name": "ipython",
    "version": 3
   },
   "file_extension": ".py",
   "mimetype": "text/x-python",
   "name": "python",
   "nbconvert_exporter": "python",
   "pygments_lexer": "ipython3",
   "version": "3.7.3"
  }
 },
 "nbformat": 4,
 "nbformat_minor": 2
}
