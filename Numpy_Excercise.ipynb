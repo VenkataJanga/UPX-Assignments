{
 "cells": [
  {
   "cell_type": "code",
   "execution_count": 1,
   "metadata": {},
   "outputs": [],
   "source": [
    "# import the packages\n",
    "import numpy as np\n"
   ]
  },
  {
   "cell_type": "code",
   "execution_count": 3,
   "metadata": {},
   "outputs": [
    {
     "name": "stdout",
     "output_type": "stream",
     "text": [
      "[10 11 12 13 14 15 16 17 18 19 20 21 22 23 24 25 26 27 28 29 30 31 32 33\n",
      " 34 35 36 37 38 39 40 41 42 43 44 45 46 47 48]\n"
     ]
    }
   ],
   "source": [
    "#Write a program to create a vector with values ranging from 10  to 49\n",
    "\n",
    "range_data = np.arange(10,49)\n",
    "print(range_data)"
   ]
  },
  {
   "cell_type": "code",
   "execution_count": 10,
   "metadata": {},
   "outputs": [
    {
     "name": "stdout",
     "output_type": "stream",
     "text": [
      "Orginal Array is   [1 2 3 4 5 6 7 8 9]\n",
      "Reverse an Array is   [9 8 7 6 5 4 3 2 1]\n",
      "Reverse an Array is   [9 8 7 6 5 4 3 2 1]\n"
     ]
    }
   ],
   "source": [
    "# 2. Write a Python program to reverse a vector (first element becomes last)\n",
    "\n",
    "import numpy as np\n",
    "\n",
    "#initializing the numpy array\n",
    "original_array = np.arange(1,10)\n",
    "print('Orginal Array is  ',original_array)\n",
    "\n",
    "#Reverse an array\n",
    "print('Reverse an Array is  ',original_array[::-1])\n",
    "\n",
    "#Another method to reverse the vector\n",
    "\n",
    "reverse_array = np.flipud(original_array) \n",
    "print('Reverse an Array is  ',reverse_array)"
   ]
  },
  {
   "cell_type": "code",
   "execution_count": 100,
   "metadata": {},
   "outputs": [
    {
     "name": "stdout",
     "output_type": "stream",
     "text": [
      "Result a 3x3 matrix with values ranging from 0 to 8  \n",
      " [[0 1 2]\n",
      " [3 4 5]\n",
      " [6 7 8]]\n"
     ]
    }
   ],
   "source": [
    "#3. Write a Python program to create a 3x3 matrix with values ranging from 0 to 8\n",
    "\n",
    "import numpy as np\n",
    "\n",
    "result_array = np.arange(9).reshape(3,3)\n",
    "print('Result a 3x3 matrix with values ranging from 0 to 8  \\n',result_array)\n"
   ]
  },
  {
   "cell_type": "code",
   "execution_count": null,
   "metadata": {},
   "outputs": [],
   "source": []
  },
  {
   "cell_type": "code",
   "execution_count": 102,
   "metadata": {},
   "outputs": [
    {
     "name": "stdout",
     "output_type": "stream",
     "text": [
      "indices of non-zero elements from [1,2,0,0,4,0] are [0 1 4]\n"
     ]
    }
   ],
   "source": [
    "#4. Write a Python program to find indices of non-zero elements from [1,2,0,0,4,0]\n",
    "result_indicies_non_zero =np.nonzero([1,2,0,0,4,0])[0]\n",
    "print('indices of non-zero elements from [1,2,0,0,4,0] are',result_indicies_non_zero)"
   ]
  },
  {
   "cell_type": "code",
   "execution_count": null,
   "metadata": {},
   "outputs": [],
   "source": []
  },
  {
   "cell_type": "code",
   "execution_count": 28,
   "metadata": {},
   "outputs": [
    {
     "name": "stdout",
     "output_type": "stream",
     "text": [
      "create a 3x3x3 array with random values are   [[[0.89811828 0.5785151  0.54818869]\n",
      "  [0.66544616 0.07561108 0.06692776]\n",
      "  [0.14125375 0.87317997 0.15028601]]\n",
      "\n",
      " [[0.75175983 0.98284842 0.72868184]\n",
      "  [0.40719722 0.38611501 0.4379061 ]\n",
      "  [0.3809385  0.41032497 0.771193  ]]\n",
      "\n",
      " [[0.08934393 0.10650187 0.23681309]\n",
      "  [0.86448149 0.80390288 0.59921068]\n",
      "  [0.16701911 0.37412954 0.78203155]]]\n"
     ]
    }
   ],
   "source": [
    "#5. Write a Python program to create a 3x3x3 array with random values\n",
    "import numpy as np\n",
    "\n",
    "result_3_3_3_array = np.random.random((3,3,3))\n",
    "print('create a 3x3x3 array with random values are  ',result_3_3_3_array)"
   ]
  },
  {
   "cell_type": "code",
   "execution_count": 34,
   "metadata": {},
   "outputs": [
    {
     "name": "stdout",
     "output_type": "stream",
     "text": [
      "minimum_values =  0\n",
      "maximum_values =  99\n"
     ]
    }
   ],
   "source": [
    "#6. Write a Python program to create a 10x10 array with random values and find the minimum and maximum values\n",
    "\n",
    "import numpy as np\n",
    "random_10_10_values = np.arange(0,100).reshape(10,10)\n",
    "print('minimum_values = ',random_10_10_values.min())\n",
    "print('maximum_values = ',random_10_10_values.max())"
   ]
  },
  {
   "cell_type": "code",
   "execution_count": 84,
   "metadata": {},
   "outputs": [
    {
     "name": "stdout",
     "output_type": "stream",
     "text": [
      "\n",
      "5x5 matrix with row values ranging from 0 to 4  [[0 1 2 3 4]\n",
      " [0 1 2 3 4]\n",
      " [0 1 2 3 4]\n",
      " [0 1 2 3 4]\n",
      " [0 1 2 3 4]]\n"
     ]
    }
   ],
   "source": [
    "#7. Write a Python program to create a 5x5 matrix with row values ranging from 0 to 4\n",
    "import numpy as np\n",
    "nit_array = np.random.randint(5, size=(5,5))\n",
    "print()\n",
    "print('5x5 matrix with row values ranging from 0 to 4 ',init_array)"
   ]
  },
  {
   "cell_type": "code",
   "execution_count": null,
   "metadata": {},
   "outputs": [],
   "source": []
  },
  {
   "cell_type": "code",
   "execution_count": 66,
   "metadata": {},
   "outputs": [
    {
     "name": "stdout",
     "output_type": "stream",
     "text": [
      "value from a given value in an array is  [0.22045202 0.876866   0.39500541 0.10532684 0.14971324 0.26801324\n",
      " 0.1650745  0.70316628 0.73759493 0.51335174]\n",
      " nearest value from a given value in an array is  0.5133517410853545\n"
     ]
    }
   ],
   "source": [
    "#8. Write a Python program to find the nearest value from a given value in an array.\n",
    "input_array= np.random.random(10)\n",
    "print('value from a given value in an array is ',input_array)\n",
    "nearest_avlue=0.5\n",
    "expected_array = input_array.flat[np.abs(input_array - nearest_avlue).argmin()]\n",
    "print(' nearest value from a given value in an array is ',expected_array)"
   ]
  },
  {
   "cell_type": "code",
   "execution_count": 85,
   "metadata": {},
   "outputs": [
    {
     "name": "stdout",
     "output_type": "stream",
     "text": [
      "random arrays A is  [0.10390868 0.91828522 0.13813035 0.9627789  0.13009544 0.53612723]\n",
      "\n",
      "random arrays B is  [0.56200584 0.24569952 0.21589953 0.89632671 0.07964494 0.12441503]\n",
      "\n",
      "two random arrays A and B are not equal\n"
     ]
    }
   ],
   "source": [
    "#9. Write a Python program to find whether two random arrays A and B are equal\n",
    "first_array = np.random.random(6)\n",
    "second_array = np.random.random(6)\n",
    "print('random arrays A is ',first_array)\n",
    "print()\n",
    "print('random arrays B is ',second_array)\n",
    "array_equal = np.allclose(first_array, second_array)\n",
    "print()\n",
    "if array_equal == True:\n",
    "    print(' two random arrays A and B are  equal')\n",
    "else:\n",
    "    print('two random arrays A and B are not equal')"
   ]
  },
  {
   "cell_type": "code",
   "execution_count": 90,
   "metadata": {},
   "outputs": [
    {
     "name": "stdout",
     "output_type": "stream",
     "text": [
      "[[0.12186917 0.66997441 0.30332363]\n",
      " [0.95546947 0.54778243 0.70771717]\n",
      " [0.98349209 0.01914308 0.76137711]]\n",
      "\n",
      "[[0.83371597 0.49260246 0.67238855]\n",
      " [0.54905928 0.25544037 0.29245207]\n",
      " [0.03801608 0.04643667 0.5065697 ]]\n",
      "\n",
      "two random arrays A and B are not equal\n"
     ]
    }
   ],
   "source": [
    "#9. Write a Python program to find whether two random arrays A and B are equal\n",
    "first_array=np.random.random((3,3))\n",
    "\n",
    "second_array=np.random.random((3,3))\n",
    "array_equal=np.array_equal(first_array,second_array)\n",
    "print(first_array)\n",
    "print()\n",
    "print(second_array)\n",
    "print()\n",
    "if array_equal == True:\n",
    "    print(' two random arrays A and B are  equal')\n",
    "else:\n",
    "    print('two random arrays A and B are not equal')\n"
   ]
  },
  {
   "cell_type": "markdown",
   "metadata": {},
   "source": [
    "10. Consider the vector [1, 2, 3, 4, 5], write a Python program to build a new vector with three consecutive zeros interleaved between each value.\n"
   ]
  },
  {
   "cell_type": "code",
   "execution_count": 95,
   "metadata": {},
   "outputs": [
    {
     "name": "stdout",
     "output_type": "stream",
     "text": [
      "[1. 0. 0. 0. 2. 0. 0. 0. 3. 0. 0. 0. 4. 0. 0. 0. 5. 0. 0. 0.]\n"
     ]
    }
   ],
   "source": [
    "#10. Consider the vector [1, 2, 3, 4, 5], \n",
    "#write a Python program to build a new vector with three consecutive zeros interleaved between each value\n",
    "init_vector =np.array([1, 2, 3, 4, 5],dtype =int)\n",
    "zeros_array=np.zeros(20)\n",
    "\n",
    "zeros_array[::4] = init_vector\n",
    "print(zeros_array)"
   ]
  },
  {
   "cell_type": "code",
   "execution_count": null,
   "metadata": {},
   "outputs": [],
   "source": []
  }
 ],
 "metadata": {
  "kernelspec": {
   "display_name": "Python 3",
   "language": "python",
   "name": "python3"
  },
  "language_info": {
   "codemirror_mode": {
    "name": "ipython",
    "version": 3
   },
   "file_extension": ".py",
   "mimetype": "text/x-python",
   "name": "python",
   "nbconvert_exporter": "python",
   "pygments_lexer": "ipython3",
   "version": "3.7.3"
  }
 },
 "nbformat": 4,
 "nbformat_minor": 2
}
